{
 "cells": [
  {
   "cell_type": "code",
   "execution_count": 18,
   "metadata": {},
   "outputs": [],
   "source": [
    "import numpy as np\n",
    "import pandas as pd\n",
    "from keras.models import Sequential\n",
    "from keras.layers import Dense,Dropout\n",
    "import re\n",
    "import matplotlib.pyplot as plt"
   ]
  },
  {
   "cell_type": "code",
   "execution_count": 2,
   "metadata": {},
   "outputs": [
    {
     "data": {
      "text/plain": [
       "Index(['name', 'price', 'bedroom', 'livingroom', 'floor', 'totfloor',\n",
       "       'orientation', 'house_type', 'area', 'build_year', 'building_type',\n",
       "       'location1', 'location2', 'location3'],\n",
       "      dtype='object')"
      ]
     },
     "execution_count": 2,
     "metadata": {},
     "output_type": "execute_result"
    }
   ],
   "source": [
    "data = pd.read_csv('data.csv')\n",
    "data.columns"
   ]
  },
  {
   "cell_type": "code",
   "execution_count": 3,
   "metadata": {},
   "outputs": [],
   "source": [
    "for i in range(len(data)):\n",
    "    if data.loc[i,'orientation'] != '南':\n",
    "        if re.match('.*南.*',data.loc[i,'orientation']):\n",
    "            data.loc[i,'orientation'] = '南'\n",
    "        elif re.match('.*北.*',data.loc[i,'orientation']):\n",
    "            data.loc[i,'orientation'] = '北'\n",
    "        else:\n",
    "            data.loc[i,'orientation'] = '东西'\n",
    "# pd.get_dummies(data['orientation'])"
   ]
  },
  {
   "cell_type": "code",
   "execution_count": 12,
   "metadata": {},
   "outputs": [],
   "source": [
    "x_train = data.drop(['name','price','floor','location2','location1'],axis=1)\n",
    "x_train = pd.get_dummies(x_train)\n",
    "y_train = data['price'].copy()"
   ]
  },
  {
   "cell_type": "code",
   "execution_count": 13,
   "metadata": {},
   "outputs": [],
   "source": [
    "x_bias = x_train.min()\n",
    "x_train -= x_bias\n",
    "x_max = x_train.max()\n",
    "x_train /= x_max\n",
    "\n",
    "y_bias = y_train.min()\n",
    "y_train -= y_bias\n",
    "y_max = y_train.max()\n",
    "y_train /= y_max"
   ]
  },
  {
   "cell_type": "code",
   "execution_count": 112,
   "metadata": {},
   "outputs": [],
   "source": [
    "model = Sequential()\n",
    "model.add(Dense(64,input_shape=(17,),activation='tanh'))\n",
    "model.add(Dropout(0.3))\n",
    "model.add(Dense(64,activation='tanh'))\n",
    "model.add(Dropout(0.3))\n",
    "model.add(Dense(64,activation='tanh'))\n",
    "model.add(Dropout(0.3))\n",
    "model.add(Dense(64,activation='tanh'))\n",
    "model.add(Dropout(0.3))\n",
    "model.add(Dense(1))"
   ]
  },
  {
   "cell_type": "code",
   "execution_count": 113,
   "metadata": {},
   "outputs": [
    {
     "name": "stdout",
     "output_type": "stream",
     "text": [
      "Train on 34088 samples, validate on 8523 samples\n",
      "Epoch 1/16\n",
      "34088/34088 [==============================] - 6s 163us/step - loss: 0.0226 - val_loss: 9.7642e-04\n",
      "Epoch 2/16\n",
      "34088/34088 [==============================] - 4s 115us/step - loss: 0.0021 - val_loss: 6.5505e-04\n",
      "Epoch 3/16\n",
      "34088/34088 [==============================] - 4s 111us/step - loss: 0.0011 - val_loss: 5.1455e-04\n",
      "Epoch 4/16\n",
      "34088/34088 [==============================] - 4s 104us/step - loss: 7.8161e-04 - val_loss: 4.9447e-04\n",
      "Epoch 5/16\n",
      "34088/34088 [==============================] - 4s 112us/step - loss: 6.6554e-04 - val_loss: 4.4194e-04\n",
      "Epoch 6/16\n",
      "34088/34088 [==============================] - 4s 117us/step - loss: 5.8771e-04 - val_loss: 3.9446e-04\n",
      "Epoch 7/16\n",
      "34088/34088 [==============================] - 4s 129us/step - loss: 5.6719e-04 - val_loss: 4.0526e-04\n",
      "Epoch 8/16\n",
      "34088/34088 [==============================] - 4s 126us/step - loss: 5.4690e-04 - val_loss: 4.2039e-04\n",
      "Epoch 9/16\n",
      "34088/34088 [==============================] - 4s 129us/step - loss: 5.3864e-04 - val_loss: 4.5594e-04\n",
      "Epoch 10/16\n",
      "34088/34088 [==============================] - 4s 122us/step - loss: 5.4118e-04 - val_loss: 3.9900e-04\n",
      "Epoch 11/16\n",
      "34088/34088 [==============================] - 4s 124us/step - loss: 5.5264e-04 - val_loss: 3.9540e-04\n",
      "Epoch 12/16\n",
      "34088/34088 [==============================] - 4s 121us/step - loss: 5.5154e-04 - val_loss: 4.0458e-04\n",
      "Epoch 13/16\n",
      "34088/34088 [==============================] - 4s 124us/step - loss: 5.4416e-04 - val_loss: 5.6193e-04\n",
      "Epoch 14/16\n",
      "34088/34088 [==============================] - 4s 129us/step - loss: 5.5941e-04 - val_loss: 3.9496e-04\n",
      "Epoch 15/16\n",
      "34088/34088 [==============================] - 5s 138us/step - loss: 5.4308e-04 - val_loss: 4.1283e-04\n",
      "Epoch 16/16\n",
      "34088/34088 [==============================] - 4s 131us/step - loss: 5.4026e-04 - val_loss: 3.8499e-04\n"
     ]
    },
    {
     "data": {
      "text/plain": [
       "<keras.callbacks.History at 0x11f223470>"
      ]
     },
     "execution_count": 113,
     "metadata": {},
     "output_type": "execute_result"
    }
   ],
   "source": [
    "model.compile(loss='mse', optimizer='adam')\n",
    "model.fit(x_train,y_train,epochs=16,validation_split=0.2)"
   ]
  },
  {
   "cell_type": "code",
   "execution_count": 16,
   "metadata": {},
   "outputs": [
    {
     "data": {
      "text/plain": [
       "7965.0"
      ]
     },
     "execution_count": 16,
     "metadata": {},
     "output_type": "execute_result"
    }
   ],
   "source": [
    "y_max"
   ]
  },
  {
   "cell_type": "code",
   "execution_count": 125,
   "metadata": {
    "scrolled": false
   },
   "outputs": [
    {
     "name": "stdout",
     "output_type": "stream",
     "text": [
      "[[ 0.14450787  0.2376147   0.10786573 ...,  0.18774495  0.22426134\n",
      "   0.35171669]\n",
      " [ 0.14450787  0.2376147   0.10786573 ...,  0.18774495  0.22426134\n",
      "   0.35171669]\n",
      " [ 0.14450787  0.2376147   0.10786573 ...,  0.18774495  0.22426134\n",
      "   0.35171669]\n",
      " ..., \n",
      " [ 0.14450787  0.2376147   0.10786573 ...,  0.18774495  0.22426134\n",
      "   0.35171669]\n",
      " [ 0.14450787  0.2376147   0.10786573 ...,  0.18774495  0.22426134\n",
      "   0.35171669]\n",
      " [ 0.14450787  0.2376147   0.10786573 ...,  0.18774495  0.22426134\n",
      "   0.35171669]]\n"
     ]
    },
    {
     "data": {
      "image/png": "[encoded data removed]",
      "text/plain": [
       "<matplotlib.figure.Figure at 0x11f08cda0>"
      ]
     },
     "metadata": {},
     "output_type": "display_data"
    }
   ],
   "source": [
    "name = 'area'\n",
    "idx = list(x_train.columns).index(name)\n",
    "x = x_train.mean().values.reshape(-1,17)\n",
    "x = x.repeat(100,axis=0).reshape(-1,17)\n",
    "\n",
    "x[:,idx] = np.linspace(0,1,100)\n",
    "print(x)\n",
    "fig = plt.figure()\n",
    "y=model.predict(x)\n",
    "plt.plot(np.linspace(0,1,100)*x_max[idx]+x_bias[idx],y*y_max+y_bias,color='red')\n",
    "plt.scatter(data[name],data['price'],s=0.2)\n",
    "plt.ylim((0,4000))\n",
    "plt.ylabel('SalePrice')\n",
    "plt.xlabel(name)\n",
    "plt.show()"
   ]
  },
  {
   "cell_type": "code",
   "execution_count": null,
   "metadata": {},
   "outputs": [],
   "source": []
  }
 ],
 "metadata": {
  "kernelspec": {
   "display_name": "Python 3",
   "language": "python",
   "name": "python3"
  },
  "language_info": {
   "codemirror_mode": {
    "name": "ipython",
    "version": 3
   },
   "file_extension": ".py",
   "mimetype": "text/x-python",
   "name": "python",
   "nbconvert_exporter": "python",
   "pygments_lexer": "ipython3",
   "version": "3.6.4"
  }
 },
 "nbformat": 4,
 "nbformat_minor": 2
}
