{
 "cells": [
  {
   "cell_type": "code",
   "execution_count": null,
   "metadata": {},
   "outputs": [],
   "source": [
    "import multiprocessing as mp\n",
    "from bs4 import BeautifulSoup\n",
    "import re,queue,os,pickle\n",
    "from urllib.request import urlopen,urlretrieve\n",
    "import threading,time,gzip\n",
    "import pandas as pd\n",
    "import matplotlib.pyplot as plt\n",
    "import seaborn as sns\n",
    "plt.rcParams['font.sans-serif']=['SimHei']\n",
    "%config InlineBackend.figure_format='retina'"
   ]
  },
  {
   "cell_type": "markdown",
   "metadata": {},
   "source": [
    "# Find Data"
   ]
  },
  {
   "cell_type": "code",
   "execution_count": null,
   "metadata": {
    "scrolled": false
   },
   "outputs": [],
   "source": [
    "url_base = 'https://sh.lianjia.com'\n",
    "responce = queue.Queue()\n",
    "database = []\n",
    "\n",
    "districts=[]\n",
    "sub_districts=[]\n",
    "html = urlopen(url_base+'/ershoufang/').read()\n",
    "soup = BeautifulSoup(html,features='lxml')\n",
    "data = soup.find_all('a',{'href':re.compile(r'/ershoufang/(.*)/'),'title':re.compile(r'上海(.*)在售二手房 ')})\n",
    "for j in data:\n",
    "    print(j['href'])\n",
    "    district = j['href']\n",
    "    districts.append(district)\n",
    "    html = urlopen(url_base+district).read()\n",
    "    soup = BeautifulSoup(html,features='lxml')\n",
    "    sub_district = soup.find_all('a',{'href':re.compile(r'/ershoufang/([a-z]+)/$'),'title':'','rel':'','target':''})\n",
    "    for d in sub_district:\n",
    "        if not d['href'] in districts:\n",
    "            print(d['href'])\n",
    "            sub_districts.append(d['href'])"
   ]
  },
  {
   "cell_type": "code",
   "execution_count": null,
   "metadata": {},
   "outputs": [],
   "source": [
    "data_housecode = []\n",
    "last_cnt = 0\n",
    "for herf in sub_districts:\n",
    "    for page in range(1,101):\n",
    "        print(url_base+herf+'pg'+str(page),end='\\r')\n",
    "        html = urlopen(url_base+herf+'pg'+str(page)).read()\n",
    "        soup = BeautifulSoup(html,features='lxml')\n",
    "        data = soup.find_all('a',{'class':'img','data-housecode':re.compile(r'[0-9]+'),})\n",
    "        for i in data:\n",
    "            data_housecode.append(int(i['data-housecode']))\n",
    "        data_housecode = list(set(data_housecode))\n",
    "        if len(data_housecode)==last_cnt:\n",
    "            break\n",
    "        last_cnt = len(data_housecode)\n",
    "    print()\n",
    "    print(len(data_housecode))"
   ]
  },
  {
   "cell_type": "markdown",
   "metadata": {},
   "source": [
    "# Download Data\n",
    "\n",
    "download everything in the list into ./data"
   ]
  },
  {
   "cell_type": "code",
   "execution_count": null,
   "metadata": {},
   "outputs": [],
   "source": [
    "f = gzip.open('data_housecode_list.pkl.gz','rb')\n",
    "data_housecode = pickle.load(f)\n",
    "f.close()\n",
    "len(data_housecode)"
   ]
  },
  {
   "cell_type": "code",
   "execution_count": null,
   "metadata": {},
   "outputs": [],
   "source": [
    "url_base = 'https://sh.lianjia.com'\n",
    "\n",
    "def download(housecode):\n",
    "    urlretrieve(url_base+'/ershoufang/'+str(housecode)+'.html','./data/'+str(housecode)+'.html')"
   ]
  },
  {
   "cell_type": "code",
   "execution_count": null,
   "metadata": {
    "scrolled": false
   },
   "outputs": [],
   "source": [
    "for housecode in range(1000,len(data_housecode)):\n",
    "    if housecode % 100 == 0:\n",
    "        print('% 5d / % 5d - %.2f'%(housecode,len(data_housecode),housecode/len(data_housecode))+r'%')\n",
    "    while len(mp.active_children())>=50:\n",
    "        time.sleep(0.2)\n",
    "    p = mp.Process(target=download,args=(data_housecode[housecode],))\n",
    "    p.start()"
   ]
  },
  {
   "cell_type": "markdown",
   "metadata": {},
   "source": [
    "# Pre-process data\n",
    "\n",
    "find useful information in htmls"
   ]
  },
  {
   "cell_type": "code",
   "execution_count": null,
   "metadata": {},
   "outputs": [],
   "source": [
    "listdir = os.listdir('./data/')"
   ]
  },
  {
   "cell_type": "code",
   "execution_count": null,
   "metadata": {},
   "outputs": [],
   "source": [
    "def parse(name,q):\n",
    "    try:\n",
    "        soup = BeautifulSoup(open('./data/'+name),features='lxml')\n",
    "        price = float(soup.find('span',{'class':'total'}).getText())\n",
    "        if soup.find('span',{'class':'unit'}).getText() == '亿':\n",
    "            price*=10000\n",
    "\n",
    "        # location info\n",
    "\n",
    "        location = soup.find('span',{'class':'info'}).getText()\n",
    "        #     print(re.split(r'\\xa0',location))\n",
    "        l1,l2,l3 = re.split(r'\\xa0',location)\n",
    "\n",
    "        # room info\n",
    "\n",
    "        room_soup = soup.find('div',{'class':'room'})\n",
    "\n",
    "        maininfo = room_soup.find('div',{'class':'mainInfo'}).getText()\n",
    "        bedroom = int(re.findall(r'([0-9]+)室',maininfo)[0])\n",
    "        livingroom = int(re.findall(r'([0-9]+)厅',maininfo)[0])\n",
    "\n",
    "        subinfo = room_soup.find('div',{'class':'subInfo'}).getText()\n",
    "        floor = re.findall(r'(.+)楼层/',subinfo)\n",
    "        if len(floor)==0:\n",
    "            return\n",
    "        else:\n",
    "            floor = floor[0]\n",
    "        totfloor = int(re.findall(r'共([0-9]+)层',subinfo)[0])\n",
    "\n",
    "        if totfloor <=3 :\n",
    "            return\n",
    "\n",
    "        # type info\n",
    "\n",
    "        type_soup = soup.find('div',{'class':'type'})\n",
    "        orientation = type_soup.find('div',{'class':'mainInfo'}).getText()\n",
    "        if orientation == '暂无数据':\n",
    "            return\n",
    "        house_type = type_soup.find('div',{'class':'subInfo'}).getText()[-2:]\n",
    "        if not house_type in ['精装','简装','毛坯']:\n",
    "            return\n",
    "\n",
    "        # area info\n",
    "\n",
    "        area_soup = soup.find('div',{'class':'area'})\n",
    "        area = float(area_soup.find('div',{'class':'mainInfo'}).getText()[:-2])\n",
    "        subinfo = area_soup.find('div',{'class':'subInfo'}).getText()\n",
    "        build_year = re.findall(r'([0-9]+)年建',subinfo)\n",
    "        if len(build_year)==0:\n",
    "            return\n",
    "        else:\n",
    "            build_year = build_year[0]\n",
    "        building_type = re.findall(r'/(.+$)',subinfo)[0]\n",
    "        if not building_type in ['塔楼','板楼']:\n",
    "            return\n",
    "        q.put([int(name[:-5]),price,bedroom,livingroom,floor,totfloor,orientation,house_type,area,build_year,building_type,l1,l2,l3])\n",
    "    except:\n",
    "        pass"
   ]
  },
  {
   "cell_type": "code",
   "execution_count": null,
   "metadata": {},
   "outputs": [],
   "source": [
    "# data = []\n",
    "q = mp.Queue()\n",
    "for name_index in range(10000,len(listdir)):\n",
    "    name = listdir[name_index]\n",
    "    if name[-5:] != '.html':\n",
    "        continue\n",
    "    if name_index % 16 == 0:\n",
    "        while not q.empty():\n",
    "            data.append(q.get())\n",
    "        print('% 5d / % 5d - %.2f'%(name_index,len(listdir),name_index*100/len(listdir))+r'%  '+name,end='\\r')\n",
    "    while len(mp.active_children())>=8:\n",
    "        time.sleep(0.1)\n",
    "    p = mp.Process(target=parse,args=(name,q))\n",
    "    p.start()\n",
    "\n",
    "while len(mp.active_children())>0:\n",
    "    time.sleep(0.2)\n",
    "\n",
    "while not q.empty():\n",
    "    data.append(q.get())"
   ]
  },
  {
   "cell_type": "code",
   "execution_count": null,
   "metadata": {
    "scrolled": false
   },
   "outputs": [],
   "source": [
    "data = pd.DataFrame(data,columns=['name','price','bedroom','livingroom','floor','totfloor','orientation',\n",
    "                                  'house_type','area','build_year','building_type','location1','location2','location3'])\n",
    "\n",
    "# pd.get_dummies(data,columns=['floor','building_type','house_type'])\n",
    "data.to_csv('data.csv',index=False)\n",
    "data"
   ]
  },
  {
   "cell_type": "markdown",
   "metadata": {},
   "source": [
    "# Analyze data\n",
    "\n",
    "plot all data"
   ]
  },
  {
   "cell_type": "code",
   "execution_count": null,
   "metadata": {},
   "outputs": [],
   "source": [
    "data = pd.read_csv('data.csv')\n",
    "data['floor'] = data['floor'].replace(['低','中','高'],['0低','1中','2高'])\n",
    "data['location3'] = data['location3'].replace(['内环内','内环至中环','中环至外环','外环外'],['1-内环内','2-内环至中环','3-中环至外环','4-外环外'])\n",
    "data['unit_price'] = data['price'] / data['area']\n",
    "col = data.columns.values\n",
    "print(col)"
   ]
  },
  {
   "cell_type": "code",
   "execution_count": null,
   "metadata": {
    "scrolled": false
   },
   "outputs": [],
   "source": [
    "subdata = data[data['price'] <= 1000]\n",
    "continues = ['price','area','unit_price','totfloor','build_year']\n",
    "separate = ['bedroom','livingroom','floor','orientation','house_type','building_type','location1','location3']\n",
    "for j in continues:\n",
    "    for i in separate:\n",
    "        if i == j:\n",
    "            continue\n",
    "        x_label = i\n",
    "        y_label = j\n",
    "        print(y_label+' - '+x_label)\n",
    "        fig = plt.figure()\n",
    "        if x_label == 'location3':\n",
    "            sns.boxplot(subdata[x_label],subdata[y_label],order=['1-内环内','2-内环至中环','3-中环至外环','4-外环外'])\n",
    "        else:\n",
    "            sns.boxplot(subdata[x_label],subdata[y_label])\n",
    "        plt.xlabel(x_label)\n",
    "        plt.ylabel(y_label)\n",
    "        plt.savefig('./plots_small/'+x_label+'-'+y_label+\"_box_small.jpg\",dpi=200)\n",
    "        plt.close()\n",
    "        fig = plt.figure()\n",
    "        plt.scatter(subdata[x_label],subdata[y_label],alpha=0.005)\n",
    "        plt.xlabel(x_label)\n",
    "        plt.ylabel(y_label)\n",
    "        plt.savefig('./plots_small/'+x_label+'-'+y_label+\"_sca_small.jpg\",dpi=200)\n",
    "        plt.close()\n",
    "    for i in continues:\n",
    "        if i == j:\n",
    "            continue\n",
    "        x_label = j\n",
    "        y_label = i\n",
    "        print(y_label+' - '+x_label)\n",
    "        fig = plt.figure()\n",
    "        plt.scatter(subdata[x_label],subdata[y_label],alpha=0.005)\n",
    "        plt.xlabel(x_label)\n",
    "        plt.ylabel(y_label)\n",
    "        plt.savefig('./plots_small/'+x_label+'-'+y_label+\"_sca_small.jpg\",dpi=200)\n",
    "        plt.close()"
   ]
  },
  {
   "cell_type": "code",
   "execution_count": null,
   "metadata": {},
   "outputs": [],
   "source": [
    "subdata = data\n",
    "# continues = ['price','area','unit_price','totfloor']\n",
    "# separate = ['bedroom','livingroom','floor','orientation','house_type','building_type','location1','location3']\n",
    "for j in continues:\n",
    "    for i in separate:\n",
    "        if i == j:\n",
    "            continue\n",
    "        x_label = i\n",
    "        y_label = j\n",
    "        print(y_label+' - '+x_label)\n",
    "        fig = plt.figure()\n",
    "        if x_label == 'location3':\n",
    "            sns.boxplot(subdata[x_label],subdata[y_label],order=['1-内环内','2-内环至中环','3-中环至外环','4-外环外'])\n",
    "        else:\n",
    "            sns.boxplot(subdata[x_label],subdata[y_label])\n",
    "        plt.xlabel(x_label)\n",
    "        plt.ylabel(y_label)\n",
    "        plt.savefig('./plots/'+x_label+'-'+y_label+\"_box.jpg\",dpi=200)\n",
    "        plt.close()\n",
    "        fig = plt.figure()\n",
    "        plt.scatter(subdata[x_label],subdata[y_label],alpha=0.005)\n",
    "        plt.xlabel(x_label)\n",
    "        plt.ylabel(y_label)\n",
    "        plt.savefig('./plots/'+x_label+'-'+y_label+\"_sca.jpg\",dpi=200)\n",
    "        plt.close()\n",
    "    for i in continues:\n",
    "        if i == j:\n",
    "            continue\n",
    "        x_label = j\n",
    "        y_label = i\n",
    "        print(y_label+' - '+x_label)\n",
    "        fig = plt.figure()\n",
    "        plt.scatter(subdata[x_label],subdata[y_label],alpha=0.005)\n",
    "        plt.xlabel(x_label)\n",
    "        plt.ylabel(y_label)\n",
    "        plt.savefig('./plots/'+x_label+'-'+y_label+\"_sca.jpg\",dpi=200)\n",
    "        plt.close()"
   ]
  }
 ],
 "metadata": {
  "kernelspec": {
   "display_name": "Python 3",
   "language": "python",
   "name": "python3"
  },
  "language_info": {
   "codemirror_mode": {
    "name": "ipython",
    "version": 3
   },
   "file_extension": ".py",
   "mimetype": "text/x-python",
   "name": "python",
   "nbconvert_exporter": "python",
   "pygments_lexer": "ipython3",
   "version": "3.6.4"
  }
 },
 "nbformat": 4,
 "nbformat_minor": 2
}
